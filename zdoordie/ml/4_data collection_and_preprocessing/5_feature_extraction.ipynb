{
 "cells": [
  {
   "cell_type": "markdown",
   "id": "1e11b249",
   "metadata": {},
   "source": [
    "# exraction using TF-IDF vectorizor\n",
    "\n",
    "mapping of textual data to real valued vectors \n",
    "\n",
    "1. Bag Of Words \n",
    "2. TfIdf- term frequency and iverse document frequency\n"
   ]
  },
  {
   "cell_type": "markdown",
   "id": "5c2245ee",
   "metadata": {},
   "source": [
    "## TF-IDF \n",
    "\n",
    "tf="
   ]
  },
  {
   "cell_type": "code",
   "execution_count": null,
   "id": "a8f7ae1a",
   "metadata": {},
   "outputs": [],
   "source": []
  }
 ],
 "metadata": {
  "language_info": {
   "name": "python"
  }
 },
 "nbformat": 4,
 "nbformat_minor": 5
}
