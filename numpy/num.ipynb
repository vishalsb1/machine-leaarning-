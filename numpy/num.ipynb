{
 "cells": [
  {
   "cell_type": "code",
   "execution_count": 1,
   "id": "9c4617b7",
   "metadata": {},
   "outputs": [],
   "source": [
    "import numpy as np"
   ]
  },
  {
   "cell_type": "code",
   "execution_count": null,
   "id": "8721c471",
   "metadata": {},
   "outputs": [],
   "source": [
    "# travis oliphant  numpy - written in c"
   ]
  },
  {
   "cell_type": "markdown",
   "id": "af69d376",
   "metadata": {},
   "source": [
    "# Numpy Arrays\n"
   ]
  },
  {
   "cell_type": "markdown",
   "id": "c65ee862",
   "metadata": {},
   "source": [
    "list vs arrays\n",
    "\n",
    "- list - can store different datatypes \n",
    "- array- stores only single type of data "
   ]
  },
  {
   "cell_type": "code",
   "execution_count": 5,
   "id": "135c4b0b",
   "metadata": {},
   "outputs": [
    {
     "data": {
      "text/plain": [
       "array({1, 2, 3, 4, 5}, dtype=object)"
      ]
     },
     "execution_count": 5,
     "metadata": {},
     "output_type": "execute_result"
    }
   ],
   "source": [
    "# array creation\n",
    "np.array({1,2,3,4,5})\n"
   ]
  },
  {
   "cell_type": "code",
   "execution_count": 16,
   "id": "eb38cc55",
   "metadata": {},
   "outputs": [
    {
     "data": {
      "text/plain": [
       "array([1, 2, 3, 4, 5])"
      ]
     },
     "execution_count": 16,
     "metadata": {},
     "output_type": "execute_result"
    }
   ],
   "source": [
    "arr=np.array([1,2,3,4,5])\n",
    "arr"
   ]
  },
  {
   "cell_type": "code",
   "execution_count": 15,
   "id": "33311071",
   "metadata": {},
   "outputs": [
    {
     "data": {
      "text/plain": [
       "array(['1', '2', '3', '4', 'hello'], dtype='<U21')"
      ]
     },
     "execution_count": 15,
     "metadata": {},
     "output_type": "execute_result"
    }
   ],
   "source": [
    "a=[1,2,3,4,\"hello\"]\n",
    "# here all data types will become string as U32\n",
    "arr=np.array(a)\n",
    "arr"
   ]
  },
  {
   "cell_type": "code",
   "execution_count": 17,
   "id": "67504511",
   "metadata": {},
   "outputs": [
    {
     "data": {
      "text/plain": [
       "array([[1, 2, 3],\n",
       "       [4, 5, 6],\n",
       "       [7, 8, 9]])"
      ]
     },
     "execution_count": 17,
     "metadata": {},
     "output_type": "execute_result"
    }
   ],
   "source": [
    "l=[[1,2,3],[4,5,6],[7,8,9]]\n",
    "arrd=np.array(l)\n",
    "arrd"
   ]
  },
  {
   "cell_type": "markdown",
   "id": "f2a95968",
   "metadata": {},
   "source": [
    "the 2d 3d 4d etc are knon as tensors"
   ]
  },
  {
   "cell_type": "code",
   "execution_count": 19,
   "id": "af4b169d",
   "metadata": {},
   "outputs": [
    {
     "data": {
      "text/plain": [
       "array([ 1,  2,  3,  4,  5,  6,  7,  8,  9, 10])"
      ]
     },
     "execution_count": 19,
     "metadata": {},
     "output_type": "execute_result"
    }
   ],
   "source": [
    "arr=np.arange(1,11)\n",
    "arr"
   ]
  },
  {
   "cell_type": "code",
   "execution_count": 25,
   "id": "e69370b4",
   "metadata": {},
   "outputs": [
    {
     "data": {
      "text/plain": [
       "array([0., 0., 0., 0., 0., 0., 0., 0., 0., 0.])"
      ]
     },
     "execution_count": 25,
     "metadata": {},
     "output_type": "execute_result"
    }
   ],
   "source": [
    "np.zeros((10))"
   ]
  },
  {
   "cell_type": "code",
   "execution_count": 23,
   "id": "5782a83d",
   "metadata": {},
   "outputs": [
    {
     "data": {
      "text/plain": [
       "array([[0., 0., 0., 0., 0., 0.],\n",
       "       [0., 0., 0., 0., 0., 0.],\n",
       "       [0., 0., 0., 0., 0., 0.],\n",
       "       [0., 0., 0., 0., 0., 0.],\n",
       "       [0., 0., 0., 0., 0., 0.],\n",
       "       [0., 0., 0., 0., 0., 0.]])"
      ]
     },
     "execution_count": 23,
     "metadata": {},
     "output_type": "execute_result"
    }
   ],
   "source": [
    "np.zeros((6,6))  #hori=row ,vrticle =columns"
   ]
  },
  {
   "cell_type": "code",
   "execution_count": 28,
   "id": "f40cf7b5",
   "metadata": {},
   "outputs": [
    {
     "data": {
      "text/plain": [
       "array([1.        , 1.33333333, 1.66666667, 2.        ])"
      ]
     },
     "execution_count": 28,
     "metadata": {},
     "output_type": "execute_result"
    }
   ],
   "source": [
    "# havng linear space \n",
    "\n",
    "arr=np.linspace(1,2,4)  # (from,to,numbers to be formed between from anf to)\n",
    "arr"
   ]
  },
  {
   "cell_type": "markdown",
   "id": "0bd4128f",
   "metadata": {},
   "source": [
    "random number generation  (np sobat random pn install hoto so to acess an random in np we will use 'np.random.random_operarion )"
   ]
  },
  {
   "cell_type": "code",
   "execution_count": 29,
   "id": "88f730d1",
   "metadata": {},
   "outputs": [
    {
     "data": {
      "text/plain": [
       "array([0.38061491, 0.49087594, 0.90727893, 0.4854384 , 0.88978207])"
      ]
     },
     "execution_count": 29,
     "metadata": {},
     "output_type": "execute_result"
    }
   ],
   "source": [
    "np.random.rand(5)"
   ]
  },
  {
   "cell_type": "code",
   "execution_count": 30,
   "id": "f5a582b9",
   "metadata": {},
   "outputs": [
    {
     "data": {
      "text/plain": [
       "array([ 0.51217318, -1.09967981, -0.12653669,  0.28241253,  0.36497522,\n",
       "       -1.84204134, -1.51995629,  0.63904352,  0.29936587,  0.31123516])"
      ]
     },
     "execution_count": 30,
     "metadata": {},
     "output_type": "execute_result"
    }
   ],
   "source": [
    "np.random.randn(10)  # concept of standardization values lies between 3 and -3 thus use 'random.randn'"
   ]
  },
  {
   "cell_type": "code",
   "execution_count": 34,
   "id": "92d334d0",
   "metadata": {},
   "outputs": [
    {
     "data": {
      "text/plain": [
       "array([26, 29, 25, 14, 17, 25, 16,  6, 14, 29])"
      ]
     },
     "execution_count": 34,
     "metadata": {},
     "output_type": "execute_result"
    }
   ],
   "source": [
    "np.random.randint(1,30,10)  #( from , till , how many)"
   ]
  },
  {
   "cell_type": "markdown",
   "id": "c0ee1ca7",
   "metadata": {},
   "source": [
    "attributes in np\n"
   ]
  },
  {
   "cell_type": "code",
   "execution_count": 36,
   "id": "8e1e5028",
   "metadata": {},
   "outputs": [
    {
     "data": {
      "text/plain": [
       "array([[1, 2, 3],\n",
       "       [4, 5, 6],\n",
       "       [7, 8, 9]])"
      ]
     },
     "execution_count": 36,
     "metadata": {},
     "output_type": "execute_result"
    }
   ],
   "source": [
    "l=[[1,2,3],[4,5,6],[7,8,9]]\n",
    "arr=np.array(l)\n",
    "arr\n"
   ]
  },
  {
   "cell_type": "code",
   "execution_count": 37,
   "id": "69bec9e8",
   "metadata": {},
   "outputs": [
    {
     "data": {
      "text/plain": [
       "(3, 3)"
      ]
     },
     "execution_count": 37,
     "metadata": {},
     "output_type": "execute_result"
    }
   ],
   "source": [
    "arr.shape"
   ]
  },
  {
   "cell_type": "code",
   "execution_count": 39,
   "id": "46abc249",
   "metadata": {},
   "outputs": [
    {
     "data": {
      "text/plain": [
       "9"
      ]
     },
     "execution_count": 39,
     "metadata": {},
     "output_type": "execute_result"
    }
   ],
   "source": [
    "arr.size"
   ]
  },
  {
   "cell_type": "code",
   "execution_count": 40,
   "id": "daeab9ac",
   "metadata": {},
   "outputs": [
    {
     "data": {
      "text/plain": [
       "dtype('int64')"
      ]
     },
     "execution_count": 40,
     "metadata": {},
     "output_type": "execute_result"
    }
   ],
   "source": [
    "arr.dtype"
   ]
  },
  {
   "cell_type": "code",
   "execution_count": 42,
   "id": "b2268229",
   "metadata": {},
   "outputs": [
    {
     "data": {
      "text/plain": [
       "np.int64(1)"
      ]
     },
     "execution_count": 42,
     "metadata": {},
     "output_type": "execute_result"
    }
   ],
   "source": [
    "arr.min()"
   ]
  },
  {
   "cell_type": "code",
   "execution_count": 43,
   "id": "90729edd",
   "metadata": {},
   "outputs": [
    {
     "data": {
      "text/plain": [
       "np.int64(9)"
      ]
     },
     "execution_count": 43,
     "metadata": {},
     "output_type": "execute_result"
    }
   ],
   "source": [
    "arr.max()"
   ]
  },
  {
   "cell_type": "code",
   "execution_count": 44,
   "id": "228e92e6",
   "metadata": {},
   "outputs": [
    {
     "data": {
      "text/plain": [
       "np.int64(45)"
      ]
     },
     "execution_count": 44,
     "metadata": {},
     "output_type": "execute_result"
    }
   ],
   "source": [
    "arr.sum()"
   ]
  },
  {
   "cell_type": "code",
   "execution_count": 45,
   "id": "d0673fd6",
   "metadata": {},
   "outputs": [
    {
     "data": {
      "text/plain": [
       "array([12, 15, 18])"
      ]
     },
     "execution_count": 45,
     "metadata": {},
     "output_type": "execute_result"
    }
   ],
   "source": [
    "# colum wise axis =0\n",
    "# colum wise axis =1\n",
    "\n",
    "np.sum(arr,axis=0)"
   ]
  },
  {
   "cell_type": "code",
   "execution_count": 46,
   "id": "b93721f0",
   "metadata": {},
   "outputs": [
    {
     "data": {
      "text/plain": [
       "array([ 6, 15, 24])"
      ]
     },
     "execution_count": 46,
     "metadata": {},
     "output_type": "execute_result"
    }
   ],
   "source": [
    "np.sum(arr,axis=1)"
   ]
  },
  {
   "cell_type": "code",
   "execution_count": 48,
   "id": "acf70f9c",
   "metadata": {},
   "outputs": [
    {
     "data": {
      "text/plain": [
       "np.float64(2.581988897471611)"
      ]
     },
     "execution_count": 48,
     "metadata": {},
     "output_type": "execute_result"
    }
   ],
   "source": [
    "arr.std()  # standardization"
   ]
  },
  {
   "cell_type": "code",
   "execution_count": 50,
   "id": "96b438b3",
   "metadata": {},
   "outputs": [
    {
     "data": {
      "text/plain": [
       "(np.int64(8), np.int64(0))"
      ]
     },
     "execution_count": 50,
     "metadata": {},
     "output_type": "execute_result"
    }
   ],
   "source": [
    "# finding index of largest and smallest index \n",
    "\n",
    "arr.argmax(),arr.argmin()"
   ]
  },
  {
   "cell_type": "markdown",
   "id": "0da62480",
   "metadata": {},
   "source": [
    "reshaping and resizing \n"
   ]
  },
  {
   "cell_type": "code",
   "execution_count": 52,
   "id": "92919baa",
   "metadata": {},
   "outputs": [
    {
     "data": {
      "text/plain": [
       "array([ 1,  2,  3,  4,  5,  6,  7,  8,  9, 10, 11, 12, 13, 14, 15, 16, 17,\n",
       "       18, 19, 20, 21, 22, 23, 24, 25, 26, 27, 28, 29, 30])"
      ]
     },
     "execution_count": 52,
     "metadata": {},
     "output_type": "execute_result"
    }
   ],
   "source": [
    "arr=np.arange(1,31)\n",
    "arr"
   ]
  },
  {
   "cell_type": "code",
   "execution_count": 54,
   "id": "27cdc38d",
   "metadata": {},
   "outputs": [
    {
     "data": {
      "text/plain": [
       "array([[ 1,  2,  3,  4,  5],\n",
       "       [ 6,  7,  8,  9, 10],\n",
       "       [11, 12, 13, 14, 15],\n",
       "       [16, 17, 18, 19, 20],\n",
       "       [21, 22, 23, 24, 25],\n",
       "       [26, 27, 28, 29, 30]])"
      ]
     },
     "execution_count": 54,
     "metadata": {},
     "output_type": "execute_result"
    }
   ],
   "source": [
    "arr.reshape(6,5) # (rows, columns)"
   ]
  },
  {
   "cell_type": "markdown",
   "id": "2831fd6b",
   "metadata": {},
   "source": [
    "# Indexing and Slicing"
   ]
  },
  {
   "cell_type": "code",
   "execution_count": 97,
   "id": "5db21d78",
   "metadata": {},
   "outputs": [],
   "source": [
    "arr=np.arange(11,21)"
   ]
  },
  {
   "cell_type": "code",
   "execution_count": 98,
   "id": "d97f5c3e",
   "metadata": {},
   "outputs": [
    {
     "data": {
      "text/plain": [
       "array([11, 12, 13, 14, 15, 16, 17, 18, 19, 20])"
      ]
     },
     "execution_count": 98,
     "metadata": {},
     "output_type": "execute_result"
    }
   ],
   "source": [
    "arr"
   ]
  },
  {
   "cell_type": "code",
   "execution_count": 99,
   "id": "7cd6e896",
   "metadata": {},
   "outputs": [
    {
     "data": {
      "text/plain": [
       "np.int64(17)"
      ]
     },
     "execution_count": 99,
     "metadata": {},
     "output_type": "execute_result"
    }
   ],
   "source": [
    "arr[6]  #indexing"
   ]
  },
  {
   "cell_type": "code",
   "execution_count": 100,
   "id": "bbe44ac3",
   "metadata": {},
   "outputs": [
    {
     "data": {
      "text/plain": [
       "array([12, 13, 14, 15])"
      ]
     },
     "execution_count": 100,
     "metadata": {},
     "output_type": "execute_result"
    }
   ],
   "source": [
    "arr[1:5]   #slicing an window from given_start : end_given index"
   ]
  },
  {
   "cell_type": "code",
   "execution_count": 101,
   "id": "3367d4d6",
   "metadata": {},
   "outputs": [
    {
     "data": {
      "text/plain": [
       "array([16, 17, 18, 19, 20])"
      ]
     },
     "execution_count": 101,
     "metadata": {},
     "output_type": "execute_result"
    }
   ],
   "source": [
    "arr[5:]"
   ]
  },
  {
   "cell_type": "code",
   "execution_count": 102,
   "id": "22f740b9",
   "metadata": {},
   "outputs": [
    {
     "data": {
      "text/plain": [
       "array([11, 12, 13, 14, 15, 16, 17, 18])"
      ]
     },
     "execution_count": 102,
     "metadata": {},
     "output_type": "execute_result"
    }
   ],
   "source": [
    "arr[:8]"
   ]
  },
  {
   "cell_type": "code",
   "execution_count": 103,
   "id": "0a34a1f3",
   "metadata": {},
   "outputs": [
    {
     "data": {
      "text/plain": [
       "array([11, 15, 19])"
      ]
     },
     "execution_count": 103,
     "metadata": {},
     "output_type": "execute_result"
    }
   ],
   "source": [
    "arr[::4]"
   ]
  },
  {
   "cell_type": "code",
   "execution_count": 104,
   "id": "46837b07",
   "metadata": {},
   "outputs": [
    {
     "data": {
      "text/plain": [
       "array([[ 1,  2,  3,  4,  5],\n",
       "       [ 6,  7,  8,  9, 10],\n",
       "       [11, 12, 13, 14, 15],\n",
       "       [16, 17, 18, 19, 20],\n",
       "       [21, 22, 23, 24, 25],\n",
       "       [26, 27, 28, 29, 30]])"
      ]
     },
     "execution_count": 104,
     "metadata": {},
     "output_type": "execute_result"
    }
   ],
   "source": [
    "arr2=np.arange(1,31).reshape(6,5)\n",
    "arr2"
   ]
  },
  {
   "cell_type": "code",
   "execution_count": 105,
   "id": "f1657ddc",
   "metadata": {},
   "outputs": [
    {
     "data": {
      "text/plain": [
       "array([[19, 20],\n",
       "       [24, 25],\n",
       "       [29, 30]])"
      ]
     },
     "execution_count": 105,
     "metadata": {},
     "output_type": "execute_result"
    }
   ],
   "source": [
    "sli=arr2[3:,3:]\n",
    "sli"
   ]
  },
  {
   "cell_type": "code",
   "execution_count": 106,
   "id": "5e6b2897",
   "metadata": {},
   "outputs": [
    {
     "data": {
      "text/plain": [
       "array([[ 2,  4],\n",
       "       [12, 14],\n",
       "       [22, 24]])"
      ]
     },
     "execution_count": 106,
     "metadata": {},
     "output_type": "execute_result"
    }
   ],
   "source": [
    "arr2[::2,1::2]"
   ]
  },
  {
   "cell_type": "markdown",
   "id": "40f3455c",
   "metadata": {},
   "source": [
    "boolean indexing\n",
    "\n"
   ]
  },
  {
   "cell_type": "code",
   "execution_count": 107,
   "id": "1abd14d0",
   "metadata": {},
   "outputs": [
    {
     "data": {
      "text/plain": [
       "array([11, 12, 13, 14, 15, 16, 17, 18, 19, 20])"
      ]
     },
     "execution_count": 107,
     "metadata": {},
     "output_type": "execute_result"
    }
   ],
   "source": [
    "arr=np.arange(11,21)\n",
    "arr"
   ]
  },
  {
   "cell_type": "code",
   "execution_count": 108,
   "id": "6fd4e5cd",
   "metadata": {},
   "outputs": [],
   "source": [
    "bool_index=arr%2==0"
   ]
  },
  {
   "cell_type": "code",
   "execution_count": 109,
   "id": "0685fdec",
   "metadata": {},
   "outputs": [
    {
     "data": {
      "text/plain": [
       "array([False,  True, False,  True, False,  True, False,  True, False,\n",
       "        True])"
      ]
     },
     "execution_count": 109,
     "metadata": {},
     "output_type": "execute_result"
    }
   ],
   "source": [
    "bool_index"
   ]
  },
  {
   "cell_type": "code",
   "execution_count": 110,
   "id": "02efc8d8",
   "metadata": {},
   "outputs": [
    {
     "data": {
      "text/plain": [
       "array([12, 14, 16, 18, 20])"
      ]
     },
     "execution_count": 110,
     "metadata": {},
     "output_type": "execute_result"
    }
   ],
   "source": [
    "arr=arr[bool_index]\n",
    "arr"
   ]
  },
  {
   "cell_type": "markdown",
   "id": "1ee1e192",
   "metadata": {},
   "source": [
    "# Numpy Operations "
   ]
  },
  {
   "cell_type": "markdown",
   "id": "be03c75d",
   "metadata": {},
   "source": [
    "arithmetic operations"
   ]
  },
  {
   "cell_type": "code",
   "execution_count": 112,
   "id": "5d467ed0",
   "metadata": {},
   "outputs": [
    {
     "data": {
      "text/plain": [
       "array([ 2,  4,  6,  8, 10, 12, 14])"
      ]
     },
     "execution_count": 112,
     "metadata": {},
     "output_type": "execute_result"
    }
   ],
   "source": [
    "a1=np.array([1,2,3,4,5,6,7])\n",
    "a2=np.array([1,2,3,4,5,6,7])\n",
    "\n",
    "a1+a2   #here size must be same "
   ]
  },
  {
   "cell_type": "markdown",
   "id": "1c03c5ba",
   "metadata": {},
   "source": [
    "broadcasting\n"
   ]
  },
  {
   "cell_type": "code",
   "execution_count": 2,
   "id": "245961f5",
   "metadata": {},
   "outputs": [],
   "source": [
    "l=[10,20,30,40,50]\n",
    "arr=np.array(l)"
   ]
  },
  {
   "cell_type": "code",
   "execution_count": 7,
   "id": "888f1829",
   "metadata": {},
   "outputs": [
    {
     "data": {
      "text/plain": [
       "array([20, 30, 40, 50, 60])"
      ]
     },
     "execution_count": 7,
     "metadata": {},
     "output_type": "execute_result"
    }
   ],
   "source": [
    "arr+10 # broadcasting basically means fireclty doing an operation that operation with every element in an array"
   ]
  },
  {
   "cell_type": "code",
   "execution_count": 10,
   "id": "a9067df5",
   "metadata": {},
   "outputs": [
    {
     "data": {
      "text/plain": [
       "array([[ 1,  2,  3,  4,  5],\n",
       "       [ 6,  7,  8,  9, 10],\n",
       "       [11, 12, 13, 14, 15],\n",
       "       [16, 17, 18, 19, 20],\n",
       "       [21, 22, 23, 24, 25],\n",
       "       [26, 27, 28, 29, 30]])"
      ]
     },
     "execution_count": 10,
     "metadata": {},
     "output_type": "execute_result"
    }
   ],
   "source": [
    "arr2=np.arange(1,31).reshape(6,5)\n",
    "arr2"
   ]
  },
  {
   "cell_type": "code",
   "execution_count": 11,
   "id": "e35e8c54",
   "metadata": {},
   "outputs": [
    {
     "data": {
      "text/plain": [
       "array([[11, 12, 13, 14, 15],\n",
       "       [16, 17, 18, 19, 20],\n",
       "       [21, 22, 23, 24, 25],\n",
       "       [26, 27, 28, 29, 30],\n",
       "       [31, 32, 33, 34, 35],\n",
       "       [36, 37, 38, 39, 40]])"
      ]
     },
     "execution_count": 11,
     "metadata": {},
     "output_type": "execute_result"
    }
   ],
   "source": [
    "arr2+10"
   ]
  },
  {
   "cell_type": "markdown",
   "id": "75c00084",
   "metadata": {},
   "source": [
    "deep and shallow copy"
   ]
  },
  {
   "cell_type": "code",
   "execution_count": 12,
   "id": "ed9565b1",
   "metadata": {},
   "outputs": [
    {
     "data": {
      "text/plain": [
       "array([ 1,  2,  3,  4,  5,  6,  7,  8,  9, 10, 11, 12, 13, 14, 15, 16, 17,\n",
       "       18, 19, 20])"
      ]
     },
     "execution_count": 12,
     "metadata": {},
     "output_type": "execute_result"
    }
   ],
   "source": [
    "a=np.arange(1,21)\n",
    "a"
   ]
  },
  {
   "cell_type": "code",
   "execution_count": 18,
   "id": "d1f356c9",
   "metadata": {},
   "outputs": [],
   "source": [
    "sclice=a[:5]\n"
   ]
  },
  {
   "cell_type": "code",
   "execution_count": null,
   "id": "07676490",
   "metadata": {},
   "outputs": [
    {
     "data": {
      "text/plain": [
       "array([10, 20, 30, 40, 50])"
      ]
     },
     "execution_count": 19,
     "metadata": {},
     "output_type": "execute_result"
    }
   ],
   "source": [
    "sclice=sclice*10\n",
    "sclice\n",
    "\n",
    "# this is the eample of shallow copy "
   ]
  },
  {
   "cell_type": "code",
   "execution_count": 21,
   "id": "7d49fcdd",
   "metadata": {},
   "outputs": [
    {
     "data": {
      "text/plain": [
       "array([ 1,  2,  3,  4,  5,  6,  7,  8,  9, 10, 11, 12, 13, 14, 15, 16, 17,\n",
       "       18, 19, 20])"
      ]
     },
     "execution_count": 21,
     "metadata": {},
     "output_type": "execute_result"
    }
   ],
   "source": [
    "a"
   ]
  },
  {
   "cell_type": "markdown",
   "id": "fccbfc6e",
   "metadata": {},
   "source": [
    "in slicing the sliced array bascally is alloted an another location \n",
    "\n",
    "but when an arr is copied then that whole array is location is allocated to the same location wehe the another array is thus when we can anything from the orignal array then the another array is also affected"
   ]
  },
  {
   "cell_type": "code",
   "execution_count": 24,
   "id": "ffe979b5",
   "metadata": {},
   "outputs": [
    {
     "name": "stdout",
     "output_type": "stream",
     "text": [
      "[90 90  3  4  5  6  7  8  9 10 11 12 13 14 15 16 17 18 19 20]\n",
      "a->> [90 90  3  4  5  6  7  8  9 10 11 12 13 14 15 16 17 18 19 20]\n",
      "b->> [90 90  3  4  5  6  7  8  9 10 11 12 13 14 15 16 17 18 19 20]\n"
     ]
    }
   ],
   "source": [
    "# example\n",
    "b=a\n",
    "print(b)\n",
    "\n",
    "b[0:2]=90\n",
    "\n",
    "print(f\"a->> {a}\")\n",
    "print(f\"b->> {b}\")\n"
   ]
  },
  {
   "cell_type": "markdown",
   "id": "115c1298",
   "metadata": {},
   "source": [
    "matrix operation"
   ]
  },
  {
   "cell_type": "code",
   "execution_count": null,
   "id": "0cb99718",
   "metadata": {},
   "outputs": [
    {
     "data": {
      "text/plain": [
       "array([[ 1,  4],\n",
       "       [16, 25]])"
      ]
     },
     "execution_count": 34,
     "metadata": {},
     "output_type": "execute_result"
    }
   ],
   "source": [
    "mat1=np.array([[1,2],\n",
    "               [4,5]])\n",
    "mat2=np.array([[1,2],\n",
    "               [4,5]])\n",
    "\n",
    "mat1*mat2"
   ]
  },
  {
   "cell_type": "code",
   "execution_count": null,
   "id": "3ba62c87",
   "metadata": {},
   "outputs": [
    {
     "data": {
      "text/plain": [
       "array([[ 9, 12],\n",
       "       [24, 33]])"
      ]
     },
     "execution_count": 35,
     "metadata": {},
     "output_type": "execute_result"
    }
   ],
   "source": [
    "mat1 @ mat2   # its the dot product"
   ]
  },
  {
   "cell_type": "code",
   "execution_count": 36,
   "id": "f3e2e520",
   "metadata": {},
   "outputs": [
    {
     "data": {
      "text/plain": [
       "array([[ 9, 12],\n",
       "       [24, 33]])"
      ]
     },
     "execution_count": 36,
     "metadata": {},
     "output_type": "execute_result"
    }
   ],
   "source": [
    "np.dot(mat1,mat2)"
   ]
  },
  {
   "cell_type": "code",
   "execution_count": null,
   "id": "414cb3c1",
   "metadata": {},
   "outputs": [
    {
     "data": {
      "text/plain": [
       "array([[1, 4],\n",
       "       [2, 5]])"
      ]
     },
     "execution_count": 38,
     "metadata": {},
     "output_type": "execute_result"
    }
   ],
   "source": [
    "mat1.T # rowto colum ->transpose"
   ]
  },
  {
   "cell_type": "markdown",
   "id": "33048b66",
   "metadata": {},
   "source": [
    "advance array manupilation"
   ]
  },
  {
   "cell_type": "markdown",
   "id": "ead11868",
   "metadata": {},
   "source": [
    "1. array stacking\n",
    "\n",
    "- here in stacking only vectors can be stacked not matrices"
   ]
  },
  {
   "cell_type": "code",
   "execution_count": null,
   "id": "e8e6a57d",
   "metadata": {},
   "outputs": [
    {
     "data": {
      "text/plain": [
       "array([[1, 2, 3, 4, 5],\n",
       "       [1, 2, 3, 4, 5]])"
      ]
     },
     "execution_count": 39,
     "metadata": {},
     "output_type": "execute_result"
    }
   ],
   "source": [
    "a=np.array([1,2,3,4,5])\n",
    "b=np.array([1,2,3,4,5])\n",
    "\n",
    "np.vstack((a,b)) #verticle stacking"
   ]
  },
  {
   "cell_type": "code",
   "execution_count": null,
   "id": "f1a087a6",
   "metadata": {},
   "outputs": [
    {
     "data": {
      "text/plain": [
       "array([1, 2, 3, 4, 5, 1, 2, 3, 4, 5])"
      ]
     },
     "execution_count": 42,
     "metadata": {},
     "output_type": "execute_result"
    }
   ],
   "source": [
    "np.hstack((a,b))   #horiznatal  stacking\n"
   ]
  },
  {
   "cell_type": "code",
   "execution_count": 43,
   "id": "8123fc83",
   "metadata": {},
   "outputs": [
    {
     "data": {
      "text/plain": [
       "array([[1, 1],\n",
       "       [2, 2],\n",
       "       [3, 3],\n",
       "       [4, 4],\n",
       "       [5, 5]])"
      ]
     },
     "execution_count": 43,
     "metadata": {},
     "output_type": "execute_result"
    }
   ],
   "source": [
    "np.column_stack((a,b))"
   ]
  },
  {
   "cell_type": "markdown",
   "id": "596a2b1a",
   "metadata": {},
   "source": [
    "2. spliting an array\n"
   ]
  },
  {
   "cell_type": "code",
   "execution_count": 45,
   "id": "ef1a45e4",
   "metadata": {},
   "outputs": [
    {
     "data": {
      "text/plain": [
       "array([[ 0,  1,  2,  3],\n",
       "       [ 4,  5,  6,  7],\n",
       "       [ 8,  9, 10, 11],\n",
       "       [12, 13, 14, 15]])"
      ]
     },
     "execution_count": 45,
     "metadata": {},
     "output_type": "execute_result"
    }
   ],
   "source": [
    "arr=np.arange(16).reshape(4,4)\n",
    "arr"
   ]
  },
  {
   "cell_type": "code",
   "execution_count": null,
   "id": "70d23af5",
   "metadata": {},
   "outputs": [
    {
     "data": {
      "text/plain": [
       "[array([[ 0,  1],\n",
       "        [ 4,  5],\n",
       "        [ 8,  9],\n",
       "        [12, 13]]),\n",
       " array([[ 2,  3],\n",
       "        [ 6,  7],\n",
       "        [10, 11],\n",
       "        [14, 15]])]"
      ]
     },
     "execution_count": 52,
     "metadata": {},
     "output_type": "execute_result"
    }
   ],
   "source": [
    "np.hsplit(arr,2)  # horizantal split"
   ]
  },
  {
   "cell_type": "code",
   "execution_count": null,
   "id": "7e757b85",
   "metadata": {},
   "outputs": [
    {
     "data": {
      "text/plain": [
       "[array([[0, 1, 2, 3],\n",
       "        [4, 5, 6, 7]]),\n",
       " array([[ 8,  9, 10, 11],\n",
       "        [12, 13, 14, 15]])]"
      ]
     },
     "execution_count": 56,
     "metadata": {},
     "output_type": "execute_result"
    }
   ],
   "source": [
    "np.vsplit(arr,2) # vertaicxle split"
   ]
  },
  {
   "cell_type": "code",
   "execution_count": 57,
   "id": "246dbdc9",
   "metadata": {},
   "outputs": [
    {
     "data": {
      "text/plain": [
       "[array([[0, 1, 2, 3]]),\n",
       " array([[4, 5, 6, 7]]),\n",
       " array([[ 8,  9, 10, 11]]),\n",
       " array([[12, 13, 14, 15]])]"
      ]
     },
     "execution_count": 57,
     "metadata": {},
     "output_type": "execute_result"
    }
   ],
   "source": [
    "np.vsplit(arr,4)"
   ]
  },
  {
   "cell_type": "markdown",
   "id": "30a2cf32",
   "metadata": {},
   "source": [
    "# Exercise"
   ]
  },
  {
   "cell_type": "code",
   "execution_count": 61,
   "id": "207ba156",
   "metadata": {},
   "outputs": [],
   "source": [
    "s = np.array([\n",
    "    [5, 3, 4, 6, 7, 8, 9, 1, 2],\n",
    "    [6, 7, 2, 1, 9, 5, 3, 4, 8],\n",
    "    [1, 9, 8, 3, 4, 2, 5, 6, 7],\n",
    "    \n",
    "    [8, 5, 9, 7, 6, 1, 4, 2, 3],\n",
    "    [4, 2, 6, 8, 5, 3, 7, 9, 1],\n",
    "    [7, 1, 3, 9, 2, 4, 8, 5, 6],\n",
    "    \n",
    "    [9, 6, 1, 5, 3, 7, 2, 8, 4],\n",
    "    [2, 8, 7, 4, 1, 9, 6, 3, 5],\n",
    "    [3, 4, 5, 2, 8, 6, 1, 7, 9]\n",
    "])"
   ]
  },
  {
   "cell_type": "code",
   "execution_count": null,
   "id": "92d6a295",
   "metadata": {},
   "outputs": [],
   "source": [
    "rows_sum=np.sum(s,axis=1)\n",
    "cols_sum=np.sum(s,axis=0)\n"
   ]
  },
  {
   "cell_type": "code",
   "execution_count": 102,
   "id": "e7496bb0",
   "metadata": {},
   "outputs": [],
   "source": [
    "# mat_3x3=s[0:3,0:3]\n",
    "# mat_3x3.sum()\n",
    "k=0\n",
    "for i in range(0,9,3):\n",
    "    # i=3\n",
    "    for j in range(0,9,3):\n",
    "        mat_3x3=s[i:i+3,j:j+3]\n",
    "        if(mat_3x3.sum()!=45):\n",
    "            print(\"not an valid sudoku\")\n",
    "        \n"
   ]
  },
  {
   "cell_type": "code",
   "execution_count": null,
   "id": "31db569c",
   "metadata": {},
   "outputs": [],
   "source": []
  },
  {
   "cell_type": "code",
   "execution_count": null,
   "id": "b458867c",
   "metadata": {},
   "outputs": [],
   "source": [
    "\n",
    "\n",
    "# Columns: [Age, Math Marks, Science Marks]\n",
    "data = np.array([\n",
    "    [18, 85, 78],   # Student 1\n",
    "    [19, 92, 88],   # Student 2\n",
    "    [17, 76, 95],   # Student 3\n",
    "    [18, 65, 70],   # Student 4\n",
    "    [20, 90, 85]    # Student 5\n",
    "])"
   ]
  },
  {
   "cell_type": "code",
   "execution_count": null,
   "id": "97032b6e",
   "metadata": {},
   "outputs": [],
   "source": [
    "#Get the shape of the matrix"
   ]
  },
  {
   "cell_type": "code",
   "execution_count": null,
   "id": "3d82404a",
   "metadata": {},
   "outputs": [],
   "source": [
    "#Find the average age of students."
   ]
  },
  {
   "cell_type": "code",
   "execution_count": null,
   "id": "0ce6b1f2",
   "metadata": {},
   "outputs": [],
   "source": [
    "#Extract Math marks of all students."
   ]
  },
  {
   "cell_type": "code",
   "execution_count": null,
   "id": "cf735676",
   "metadata": {},
   "outputs": [],
   "source": [
    "#Find the highest Science mark."
   ]
  },
  {
   "cell_type": "code",
   "execution_count": null,
   "id": "0807439e",
   "metadata": {},
   "outputs": [],
   "source": [
    "#Get details of the student who scored more than 90 in Math."
   ]
  },
  {
   "cell_type": "code",
   "execution_count": null,
   "id": "861bdc1e",
   "metadata": {},
   "outputs": [],
   "source": [
    "#Increase Math marks of all students by 5."
   ]
  },
  {
   "cell_type": "code",
   "execution_count": null,
   "id": "eb10b281",
   "metadata": {},
   "outputs": [],
   "source": [
    "#Find how many students are younger than 19."
   ]
  },
  {
   "cell_type": "code",
   "execution_count": null,
   "id": "be56b6e5",
   "metadata": {},
   "outputs": [],
   "source": [
    "\n",
    "#Calculate the average marks in each subject (column-wise mean)"
   ]
  },
  {
   "cell_type": "code",
   "execution_count": null,
   "id": "c0b13eec",
   "metadata": {},
   "outputs": [],
   "source": [
    "#Get data of students who scored at least 80 in both subjects."
   ]
  },
  {
   "cell_type": "code",
   "execution_count": null,
   "id": "5aa30a3e",
   "metadata": {},
   "outputs": [],
   "source": [
    "#Replace all Science marks < 75 with 0."
   ]
  }
 ],
 "metadata": {
  "kernelspec": {
   "display_name": ".venv",
   "language": "python",
   "name": "python3"
  },
  "language_info": {
   "codemirror_mode": {
    "name": "ipython",
    "version": 3
   },
   "file_extension": ".py",
   "mimetype": "text/x-python",
   "name": "python",
   "nbconvert_exporter": "python",
   "pygments_lexer": "ipython3",
   "version": "3.12.1"
  }
 },
 "nbformat": 4,
 "nbformat_minor": 5
}
