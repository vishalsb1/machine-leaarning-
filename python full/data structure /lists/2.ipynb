{
 "cells": [
  {
   "cell_type": "markdown",
   "metadata": {},
   "source": [
    "# dictionary comprehension "
   ]
  },
  {
   "cell_type": "code",
   "execution_count": 1,
   "metadata": {},
   "outputs": [],
   "source": [
    "import random\n",
    "names = [\"Alice\", \"Bob\", \"Charlie\", \"Diana\", \"Eve\", \"Frank\"]"
   ]
  },
  {
   "cell_type": "code",
   "execution_count": 2,
   "metadata": {},
   "outputs": [
    {
     "data": {
      "text/plain": [
       "{'Alice': 53, 'Bob': 57, 'Charlie': 46, 'Diana': 77, 'Eve': 30, 'Frank': 53}"
      ]
     },
     "execution_count": 2,
     "metadata": {},
     "output_type": "execute_result"
    }
   ],
   "source": [
    "student_scores={student:random.randint(30,100)  for student in names}\n",
    "\n",
    "student_scores\n"
   ]
  },
  {
   "cell_type": "code",
   "execution_count": 18,
   "metadata": {},
   "outputs": [
    {
     "data": {
      "text/plain": [
       "{'Bob': 91, 'Charlie': 98, 'Diana': 64}"
      ]
     },
     "execution_count": 18,
     "metadata": {},
     "output_type": "execute_result"
    }
   ],
   "source": [
    "passed_student={key:val for( key,val) in student_scores.items() if val>=60}\n",
    "passed_student"
   ]
  },
  {
   "cell_type": "markdown",
   "metadata": {},
   "source": [
    "# challenge 1"
   ]
  },
  {
   "cell_type": "code",
   "execution_count": null,
   "metadata": {},
   "outputs": [
    {
     "data": {
      "text/plain": [
       "{'i': 1,\n",
       " 'live': 4,\n",
       " 'in': 2,\n",
       " 'pune': 4,\n",
       " 'and': 3,\n",
       " 'want': 4,\n",
       " 'to': 2,\n",
       " 'bcome': 5,\n",
       " 'a': 1,\n",
       " 'engineer': 8}"
      ]
     },
     "execution_count": 5,
     "metadata": {},
     "output_type": "execute_result"
    }
   ],
   "source": [
    "\n",
    "sentence=\"i live in pune and want to bcome a engineer\"\n",
    "\n",
    "list=sentence.split(' ')\n",
    "result={word:len(word)  for word in list}\n",
    "result"
   ]
  },
  {
   "cell_type": "markdown",
   "metadata": {},
   "source": [
    "# challenge 2"
   ]
  },
  {
   "cell_type": "code",
   "execution_count": 13,
   "metadata": {},
   "outputs": [
    {
     "data": {
      "text/plain": [
       "{'Monday': 77.0,\n",
       " 'Tuesday': 80.6,\n",
       " 'Wednesday': 73.4,\n",
       " 'Thursday': 78.80000000000001,\n",
       " 'Friday': 82.4,\n",
       " 'Saturday': 75.2,\n",
       " 'Sunday': 71.6}"
      ]
     },
     "execution_count": 13,
     "metadata": {},
     "output_type": "execute_result"
    }
   ],
   "source": [
    "weather = {\n",
    "    \"Monday\": 25,\n",
    "    \"Tuesday\": 27,\n",
    "    \"Wednesday\": 23,\n",
    "    \"Thursday\": 26,\n",
    "    \"Friday\": 28,\n",
    "    \"Saturday\": 24,\n",
    "    \"Sunday\": 22\n",
    "}\n",
    "\n",
    "weather_in_fareheight={day:((temp*(9/5))+32) for (day,temp) in weather.items()}\n",
    "weather_in_fareheight"
   ]
  },
  {
   "cell_type": "markdown",
   "metadata": {},
   "source": [
    "# how to iterat a pandas data frame "
   ]
  },
  {
   "cell_type": "code",
   "execution_count": 60,
   "metadata": {},
   "outputs": [
    {
     "name": "stdout",
     "output_type": "stream",
     "text": [
      "['Victor', 'India', 'Sierra', 'Hotel', 'Alfa', 'Lima']\n"
     ]
    }
   ],
   "source": [
    "import pandas as pd\n",
    "\n",
    "# Load the NATO alphabet data\n",
    "df = pd.read_csv('/workspaces/machine-leaarning-/nato.csv')\n",
    "\n",
    "# Convert the dataframe to a dictionary for faster lookup\n",
    "nato_dict = dict(zip(df['letter'], df['code']))\n",
    "\n",
    "# Get user input\n",
    "user_input = input(\"Enter a word to convert to NATO words: \")\n",
    "\n",
    "# Process the input to generate a list of NATO words\n",
    "nato_words = [nato_dict[letter.upper()] for letter in user_input if letter.upper() in nato_dict]\n",
    "\n",
    "print(nato_words)\n"
   ]
  },
  {
   "cell_type": "code",
   "execution_count": null,
   "metadata": {},
   "outputs": [],
   "source": []
  }
 ],
 "metadata": {
  "kernelspec": {
   "display_name": "Python 3",
   "language": "python",
   "name": "python3"
  },
  "language_info": {
   "codemirror_mode": {
    "name": "ipython",
    "version": 3
   },
   "file_extension": ".py",
   "mimetype": "text/x-python",
   "name": "python",
   "nbconvert_exporter": "python",
   "pygments_lexer": "ipython3",
   "version": "3.12.1"
  }
 },
 "nbformat": 4,
 "nbformat_minor": 2
}
